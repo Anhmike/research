{
 "cells": [
  {
   "cell_type": "markdown",
   "metadata": {},
   "source": [
    "- By: Alex Kwon\n",
    "- Email: alex.kwon [at] hudsonthames [dot] org"
   ]
  },
  {
   "cell_type": "markdown",
   "metadata": {},
   "source": [
    "# Statistical Arbitrage"
   ]
  },
  {
   "cell_type": "markdown",
   "metadata": {},
   "source": [
    "## Abstract\n",
    "\n",
    "Statistical Arbitrage exploits the pricing inefficiency between two groups of assets. First developed and used in the mid-1980s by Nunzio Tartaglia’s quantitative group at Morgan Stanley, the classical strategy utilizes systematic trading signals and a market-neutral approach to generate positive returns.\n",
    "\n",
    "The strategy can be explained in a two-step process. First, two baskets of assets that have historically moved similarly are identified. Then, the spread between the two is carefully measured to look for signals of divergence. If the spread becomes wider than the value suggested by historical data, the trader longs the losing basket and shorts the winning one. As the spread reverts back to the mean, the positions will gain in value."
   ]
  },
  {
   "cell_type": "markdown",
   "metadata": {},
   "source": [
    "## Introduction\n",
    "\n",
    "Most strategies involving statistical arbitrage can be expressed with the following equation:\n",
    "\n",
    "$\\frac{dP_t}{P_t} = \\alpha dt + \\beta \\frac{dQ_t}{Q_t} + dX_t$\n",
    "\n",
    "- $P_t$: Price of the first group of assets.\n",
    "\n",
    "- $Q_t$: Price of the second group of assets.\n",
    "\n",
    "- $\\alpha$: Drift term. For the most parts, we will assume that this value is 0.\n",
    "\n",
    "- $\\beta$: Regression coefficient between the change in returns.\n",
    "\n",
    "- $X_t$: Cointegration residual.\n",
    "\n",
    "This can be interpreted as going long 1 unit of $P_t$ and short $\\beta$ unit of $Q_t$ if $X_t$ is a significant positive value and vice versa for a significant negative value of $X_t$. Here we assume that $X_t$ is a stationary process with mean-reverting tendencies. $X_t$ will be described much more in detail in the section that describes the Ornstein-Uhlenbeck process.\n",
    "\n",
    "We can, therefore, interpret statistical arbitrage as a contrarian strategy to harness the mean-reverting behavior of the pair ratio to exploit the mispricing of the assets."
   ]
  },
  {
   "cell_type": "markdown",
   "metadata": {},
   "source": [
    "## Pairs Trading\n",
    "\n",
    "Pairs trading strategy is a specific statistical arbitrage strategy that focuses on two assets. Instead of trading on a basket of assets, pairs trading focuses on two to harness the pricing inefficiency caused by the widening spread. Pairs trading strategies can be implemented in three parts.\n",
    "\n",
    "1. Filter the universe to select a number of pairs. These pairs are two related securities, which are oftentimes in the same sector/industry and have similar fundamental values.\n",
    "\n",
    "2. Calculate the spread between the two pairs and test for stationarity and cointegration.\n",
    "\n",
    "3. If all the tests are satisfied, generate trading signals to long the asset that is underpriced and short the other."
   ]
  },
  {
   "cell_type": "markdown",
   "metadata": {},
   "source": [
    "## Filtering\n",
    "\n",
    "There are multiple ways to filter the initial data. For a pairs trading example, the number of pairs grows quadratically with $n$. The number of total pairs is:\n",
    "\n",
    "$\\frac{n(n-1)}{2}$\n",
    "\n",
    "If we only have $10$ assets that we want to test for, the total number of pairs is $\\frac{9*10}{2}=45$. However, once we start scanning for a universe of stocks with over $5000$ options, the numbers quickly add up. Therefore, it is important to have an effective method to test before we start the initial process. The most commonly used filtering method is the cointegration test. Using the cointegration test, we can see which pairs of assets pass the threshold to reject the null hypothesis. More information on Cointegration is available two headings below.\n",
    "\n",
    "1. Principal Component Analysis\n",
    "2. Clustering\n",
    "    - Fundamental values\n",
    "    - Sector/Industry\n",
    "    - K-means\n",
    "3. Heuristics\n",
    "4. Distance/Correlation Matrix"
   ]
  },
  {
   "cell_type": "markdown",
   "metadata": {},
   "source": [
    "## Stationarity\n",
    "\n",
    "A time series is defined to be stationary if its joint probability distribution is invariant under translations in time or space. In other words, the mean and variance of the time series do not change.\n",
    "\n",
    "It is important to test for the spread for stationarity as statistical arbitrage typically shows the strongest and most robust results that follow stationarity and cointegration for the tested pairs.\n",
    "\n",
    "### Augmented Dickey-Fuller Test\n",
    "\n",
    "Augmented Dickey-Fuller or the ADF tests the null hypothesis that a unit root is present\n",
    "in a time series sample. If the time series does have a mean-reverting trend, then the next\n",
    "price will be proportional to the current. The original Dickey-Fuller test only tested for\n",
    "lag 1, whereas the augmented version can test for lag up to $p$.\n",
    "\n",
    "$\\Delta y_t = \\alpha + \\beta t + \\gamma y_{t-1} + \\delta_1 \\Delta y_{t-1} + \\cdots + \\delta_{p-1} \\Delta y_{t-p+1} + \\epsilon_t$\n",
    "\n",
    "- $\\alpha$: constant variable\n",
    "- $\\beta$: coefficient of temporal trend\n",
    "- $\\delta$: change of $y$\n",
    "\n",
    "For the purpose of this module, we will empirically set $p$ to be $1$.\n",
    "\n",
    "Another important variable to consider is the presence of a trend within the spread. The most\n",
    "ideal scenario for a statistical arbitrage strategy is one that does not have a trend within\n",
    "the process. This, however, does not always hold true. An example of a trend stationary is shown\n",
    "below:\n",
    "\n",
    "It is possible to detrend the trend_stationarity and the user can easily do so by setting the regression to\n",
    "be $ct$ instead of just $c$, which is a constant residual."
   ]
  },
  {
   "cell_type": "markdown",
   "metadata": {},
   "source": [
    "### Kwiatkowski-Phillips-Schmidt-Shin"
   ]
  },
  {
   "cell_type": "markdown",
   "metadata": {},
   "source": [
    "### Phillips-Perron Test"
   ]
  },
  {
   "cell_type": "markdown",
   "metadata": {},
   "source": [
    "### Phillips-Ouliaris Test"
   ]
  },
  {
   "cell_type": "markdown",
   "metadata": {},
   "source": [
    "## Cointegration"
   ]
  },
  {
   "cell_type": "markdown",
   "metadata": {},
   "source": [
    "### Engle-Granger Test"
   ]
  },
  {
   "cell_type": "markdown",
   "metadata": {},
   "source": [
    "### Johansen Test"
   ]
  },
  {
   "cell_type": "markdown",
   "metadata": {},
   "source": [
    "## Regression"
   ]
  },
  {
   "cell_type": "markdown",
   "metadata": {},
   "source": [
    "### Pairs Trading\n",
    "\n",
    "There are currently two tools available for a pairs trading strategy. One calculates a rolling\n",
    "z-score and regression over the given data, and the other calculates the z-score and regression\n",
    "over the entire data. The first method removes data snooping bias and allows the user to backtest\n",
    "and trade with the available information on that day; however, if the user wants to test for the\n",
    "entire horizon, they can use the second method to calculate the scores for the entire time frame."
   ]
  },
  {
   "cell_type": "markdown",
   "metadata": {},
   "source": [
    "### Rolling Regression"
   ]
  },
  {
   "cell_type": "markdown",
   "metadata": {},
   "source": [
    "### All Regression"
   ]
  },
  {
   "cell_type": "markdown",
   "metadata": {},
   "source": [
    "## Trading Rules"
   ]
  },
  {
   "cell_type": "markdown",
   "metadata": {},
   "source": [
    "### Kalman Filtering"
   ]
  },
  {
   "cell_type": "markdown",
   "metadata": {},
   "source": [
    "### Ornstein-Uhlenbeck Process\n",
    "\n",
    "The Ornstein-Uhlenbeck process is a stochastic mean-reverting process with the following equation:\n",
    "\n",
    "$dX_t = \\kappa(\\mu − X_t)dt + \\sigma dW_t$\n",
    "\n",
    "- $X_t$: Residual from the spread.\n",
    "- $\\kappa$: Rate of mean reversion.\n",
    "- $\\mu$: Mean of the process.\n",
    "- $\\sigma$: Variance or volatility of the process.\n",
    "- $W_t$: Wiener process or Brownian motion.\n",
    "\n",
    "This can be changed into an $AR(1)$ model with the following properties:\n",
    "\n",
    "$X_{n+1} = a + b X_n + \\zeta_{n+1}$\n",
    "\n",
    "- $b = e^{-\\kappa \\Delta_t}$\n",
    "- $a = \\mu(1 - b)$\n",
    "- $var(\\zeta) = \\sigma^2 \\frac{1 - b^2}{2 \\kappa}$\n",
    "\n",
    "We will primarily use the OU-process to generate trading signals for statistical arbitrage.\n",
    "The trading signals will be defined as:\n",
    "\n",
    "$s = X_t - \\frac{E(X_t)}{var(X_t)} = \\frac{\\mu\\sqrt{2\\kappa}}{\\sigma}$"
   ]
  },
  {
   "cell_type": "markdown",
   "metadata": {},
   "source": [
    "### Hurst Exponent"
   ]
  },
  {
   "cell_type": "markdown",
   "metadata": {},
   "source": [
    "### Optimal Trading Rules"
   ]
  },
  {
   "cell_type": "markdown",
   "metadata": {},
   "source": [
    "### Optimal Portfolio Allocation"
   ]
  },
  {
   "cell_type": "code",
   "execution_count": null,
   "metadata": {},
   "outputs": [],
   "source": []
  }
 ],
 "metadata": {
  "kernelspec": {
   "display_name": "mlfinlab",
   "language": "python",
   "name": "mlfinlab"
  },
  "language_info": {
   "codemirror_mode": {
    "name": "ipython",
    "version": 3
   },
   "file_extension": ".py",
   "mimetype": "text/x-python",
   "name": "python",
   "nbconvert_exporter": "python",
   "pygments_lexer": "ipython3",
   "version": "3.6.10"
  }
 },
 "nbformat": 4,
 "nbformat_minor": 4
}
